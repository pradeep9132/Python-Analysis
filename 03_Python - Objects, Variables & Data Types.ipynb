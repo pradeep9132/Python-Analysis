{
 "cells": [
  {
   "cell_type": "markdown",
   "id": "857d69d1",
   "metadata": {},
   "source": [
    "# Python Programming - Objects, Variables & Data Type\n",
    "\n",
    "## Jupyter Notebook\n",
    "Jupyter Notebook is an open-source web application that allows users to create and share interactive documents, called \"notebooks,\" containing live code, visualizations, explanatory text, and multimedia elements. It is widely used for data analysis, data visualization, machine learning, scientific computing, and interactive programming.\n",
    "\n",
    "### User interface\n",
    "The Jupyer notebook works on two modes: **edit mode** and **command mode**.\n",
    "\n",
    "#### Edit mode\n",
    "Edit mode is indicated by a green cell border and a cursor showing in the editor area:\n",
    "<img src=\"https://jupyter-notebook.readthedocs.io/en/stable/_images/edit_mode.png\" width=750>\n",
    "- Edit the content of a cell\n",
    "- Press <code>enter</code> (<code>return</code> for Mac OS) to enable edit mode, and <code>esc</code> to quit editing\n",
    "\n",
    "#### Command mode\n",
    "Command mode is indicated by a grey cell border with a blue left margin:\n",
    "<img src=\"https://jupyter-notebook.readthedocs.io/en/stable/_images/command_mode.png\" width=762>\n",
    "- Notebook level actions: insert/remove cells, and change cell types, etc.\n",
    "- Keyboard shortcuts\n",
    "    - <code>A</code>: insert a cell above the current cell\n",
    "    - <code>B</code>: insert a cell below the current cell\n",
    "    - <code>D</code>, <code>D</code>: delete the current cell. press D twice\n",
    "    - <code>M</code>: change the cell to markdown mode\n",
    "    - <code>Y</code>: change the cell to code mode\n",
    "\n",
    "#### Keyboard shortcuts\n",
    "- <code>ctrl</code> + <code>enter</code> (<code>control</code> + <code>return</code> for Mac OS): run current cell\n",
    "- <code>shift</code> + <code>enter</code> (<code>shift</code> + <code>return</code> for Mac OS): run current cell, and move to the cell below, if no cell below it will create new cell automatically. \n",
    "\n",
    "Once a cell (code) is executed, there will be a number appearing in the square ( [ ] ) bracket in the In (input) cell which denotes the order of the cell execution.\n",
    "\n",
    "###  Detailed documentation shall be found in \n",
    "- <a href=\"https://jupyter-notebook.readthedocs.io/en/stable/examples/Notebook/examples_index.html\"><b>Jupyter Notebook Documentation</b></a> "
   ]
  },
  {
   "cell_type": "markdown",
   "id": "bb7ba2af",
   "metadata": {},
   "source": [
    "## Introduction to Python programming\n",
    "Python is a simple language, where coding looks like speaking/writing English. It talks with words and\n",
    "sentences, rather than characters (CHAR). Python shall be very easily installed on any computer."
   ]
  },
  {
   "cell_type": "code",
   "execution_count": null,
   "id": "3a29b91d",
   "metadata": {},
   "outputs": [],
   "source": [
    "a_week = ['Monday','Tuesday','Wednesday','Thursday','Friday','Saturday','Sunday']\n",
    "\n",
    "print('Dear Patient, Please follow below prescription') # greet patient and say it as description\n",
    "for each_day in a_week:                                 # a loop to repeat and execute each day in a week\n",
    "    print (each_day+', Eat 1 Apple...')                 # print the prescription, combine two strings with '+'"
   ]
  },
  {
   "cell_type": "code",
   "execution_count": null,
   "id": "02106f12",
   "metadata": {},
   "outputs": [],
   "source": []
  },
  {
   "cell_type": "markdown",
   "id": "6d623576",
   "metadata": {},
   "source": [
    "### Hello World"
   ]
  },
  {
   "cell_type": "markdown",
   "id": "d3244bf0",
   "metadata": {},
   "source": [
    "Lets start our Basic with a usual Hello World program in Python"
   ]
  },
  {
   "cell_type": "code",
   "execution_count": null,
   "id": "940ddd14",
   "metadata": {
    "scrolled": true
   },
   "outputs": [],
   "source": [
    "print(\"Hello Python World!!!\")"
   ]
  },
  {
   "cell_type": "code",
   "execution_count": null,
   "id": "e8dad59a",
   "metadata": {},
   "outputs": [],
   "source": [
    "# let try some more print\n",
    "print(\"I am a new programmer!!!\")\n",
    "print(\"Python is cool!!!\")"
   ]
  },
  {
   "cell_type": "markdown",
   "id": "928fff30",
   "metadata": {},
   "source": [
    "Please note that either single quotes or double quotes shall be used in Print function. Both will give the desired output. But as a coding practise, lets follow using double quotes inside Print function"
   ]
  },
  {
   "cell_type": "code",
   "execution_count": null,
   "id": "e3f75f54",
   "metadata": {},
   "outputs": [],
   "source": [
    "print ('I an a new programmer!!!')"
   ]
  },
  {
   "cell_type": "markdown",
   "id": "779dfd86",
   "metadata": {},
   "source": [
    "```python\n",
    "# This line won't get executed because we prefixed it with a #\n",
    "\n",
    "\"\"\"\n",
    "Any Longer comments shall be written over multiple lines \n",
    "by enclosing them within triple\n",
    "single or double quotes. Don't need to specify each line with #\n",
    "\"\"\"\n",
    "\n",
    "\n",
    "```"
   ]
  },
  {
   "cell_type": "markdown",
   "id": "033e641e",
   "metadata": {},
   "source": [
    "While learning any Programming language, main thing to understand is how to call for help, if stuck with issues.\n",
    "\n",
    "In Python and in many GUI including our Jupyter Notebook, help can be attained in 2 ways. \n",
    "\n",
    "1. First, is to use the prefix or suffix `?`. \n",
    "\n",
    "2. Second, is to use `help()` to access the Help documentation. for instance if you need help on what Print function is, then use `help(print)`.\n"
   ]
  },
  {
   "cell_type": "code",
   "execution_count": null,
   "id": "15a56feb",
   "metadata": {},
   "outputs": [],
   "source": [
    "#########################################################\n",
    "################## Class Exercise 03_1 ##################\n",
    "#########################################################\n",
    "\n",
    "# Try using the ? to check the outcome on the print function. Just execute and see.\n",
    "\n",
    "print?"
   ]
  },
  {
   "cell_type": "code",
   "execution_count": null,
   "id": "eb1fb939",
   "metadata": {},
   "outputs": [],
   "source": [
    "#########################################################\n",
    "################## Class Exercise 03_2 ##################\n",
    "#########################################################\n",
    "\n",
    "# Try calling out help and find out the outcome. Just execute and see and below is sytax for using help.\n",
    "\n",
    "help(print)"
   ]
  },
  {
   "cell_type": "code",
   "execution_count": null,
   "id": "76d2cb7c",
   "metadata": {},
   "outputs": [],
   "source": []
  },
  {
   "cell_type": "code",
   "execution_count": null,
   "id": "2bddfb9e",
   "metadata": {},
   "outputs": [],
   "source": []
  },
  {
   "cell_type": "markdown",
   "id": "7d2fa22b",
   "metadata": {},
   "source": [
    "## Python as Calculator"
   ]
  },
  {
   "cell_type": "markdown",
   "id": "debba0a8",
   "metadata": {},
   "source": [
    "Python is a Calculator. What the crap?. Python is way beyond our thinking.\n",
    "Neverthless, let's start Python humbly"
   ]
  },
  {
   "cell_type": "code",
   "execution_count": null,
   "id": "ed35a787",
   "metadata": {},
   "outputs": [],
   "source": [
    "1+2"
   ]
  },
  {
   "cell_type": "code",
   "execution_count": null,
   "id": "5897b8ad",
   "metadata": {},
   "outputs": [],
   "source": [
    "((2+3)/5) * ((3+6)/3)"
   ]
  },
  {
   "cell_type": "code",
   "execution_count": null,
   "id": "24c41a60",
   "metadata": {},
   "outputs": [],
   "source": [
    "(1+2.5) * 5 / (2.75-0.25)"
   ]
  },
  {
   "cell_type": "code",
   "execution_count": null,
   "id": "4c6c8d5c",
   "metadata": {},
   "outputs": [],
   "source": [
    "2.25 ** 3   # ** - 2.25 to the power of 3 "
   ]
  },
  {
   "cell_type": "code",
   "execution_count": null,
   "id": "fa29b87d",
   "metadata": {},
   "outputs": [],
   "source": []
  },
  {
   "cell_type": "code",
   "execution_count": null,
   "id": "64dc9447",
   "metadata": {},
   "outputs": [],
   "source": [
    "5+8\n",
    "7.2+9.6\n",
    "2.3\n",
    "3+7"
   ]
  },
  {
   "cell_type": "markdown",
   "id": "ea01541a",
   "metadata": {},
   "source": [
    "Only the result of last line will be displayed in the Out value and the other previous line values won't be displayed. To display the same, you can use the function <code>print</code>."
   ]
  },
  {
   "cell_type": "markdown",
   "id": "ad8cc9c9",
   "metadata": {},
   "source": [
    "Now revise the query as below and try to see all the lines output"
   ]
  },
  {
   "cell_type": "code",
   "execution_count": null,
   "id": "e66561ef",
   "metadata": {},
   "outputs": [],
   "source": [
    "print(5+8)\n",
    "print(7.2+9.6)\n",
    "print(2.3)\n",
    "print(3+7)"
   ]
  },
  {
   "cell_type": "code",
   "execution_count": null,
   "id": "19b8ead1",
   "metadata": {},
   "outputs": [],
   "source": []
  },
  {
   "cell_type": "code",
   "execution_count": null,
   "id": "d2fd66ad",
   "metadata": {},
   "outputs": [],
   "source": []
  },
  {
   "cell_type": "code",
   "execution_count": null,
   "id": "98c7bcf8",
   "metadata": {},
   "outputs": [],
   "source": []
  },
  {
   "cell_type": "code",
   "execution_count": null,
   "id": "21290f42",
   "metadata": {},
   "outputs": [],
   "source": [
    "#########################################################\n",
    "################## Class Exercise 03_3 ##################\n",
    "#########################################################"
   ]
  },
  {
   "cell_type": "markdown",
   "id": "f55ec0ae",
   "metadata": {},
   "source": [
    "<code>Question:</code> \n",
    "A dairy store had 1000 packs of milk in the storage for the day. Out of the total storage, 5% were spoiled, and around 500 milk packs were sold so far. Calculate how many packs of milk left in the dairy store for the day?"
   ]
  },
  {
   "cell_type": "code",
   "execution_count": 1,
   "id": "0da7c9fe",
   "metadata": {},
   "outputs": [
    {
     "data": {
      "text/plain": [
       "450.0"
      ]
     },
     "execution_count": 1,
     "metadata": {},
     "output_type": "execute_result"
    }
   ],
   "source": [
    "1000 - (1000*(5/100)) - 500"
   ]
  },
  {
   "cell_type": "code",
   "execution_count": null,
   "id": "9a882b11",
   "metadata": {},
   "outputs": [],
   "source": [
    "1000*(1-0.05) - 500"
   ]
  },
  {
   "cell_type": "code",
   "execution_count": null,
   "id": "162fc54a",
   "metadata": {},
   "outputs": [],
   "source": []
  },
  {
   "cell_type": "code",
   "execution_count": null,
   "id": "e8368f57",
   "metadata": {},
   "outputs": [],
   "source": []
  },
  {
   "cell_type": "code",
   "execution_count": null,
   "id": "0fdbc778",
   "metadata": {},
   "outputs": [],
   "source": []
  },
  {
   "cell_type": "markdown",
   "id": "fde73cb3",
   "metadata": {},
   "source": [
    "# Variables, Objects and Data Types"
   ]
  },
  {
   "cell_type": "markdown",
   "id": "a082664d",
   "metadata": {},
   "source": [
    "Lets take the same class exercise as above and make it more clear and understanding to everyone by assigning each items to a variable."
   ]
  },
  {
   "cell_type": "markdown",
   "id": "9130a0b8",
   "metadata": {},
   "source": [
    "<code>Question:</code> \n",
    "A dairy store had 1000 packs of milk in the storage for the day. Out of the total storage, 5% were spoiled, and around 500 milk packs were sold so far. Calculate how many packs of milk left in the dairy store for the day."
   ]
  },
  {
   "cell_type": "code",
   "execution_count": 2,
   "id": "abd6f8f0",
   "metadata": {},
   "outputs": [
    {
     "data": {
      "text/plain": [
       "450.0"
      ]
     },
     "execution_count": 2,
     "metadata": {},
     "output_type": "execute_result"
    }
   ],
   "source": [
    "stock = 1000 # initialising a variable stock with value as 1000. Total milk pack for the day available in the store\n",
    "spoiled = 0.05 # 5% \n",
    "Total_sold = 500\n",
    "\n",
    "# to the calculation part\n",
    "stock*(1-spoiled)-Total_sold"
   ]
  },
  {
   "cell_type": "markdown",
   "id": "9936cc1b",
   "metadata": {},
   "source": [
    "<div class=\"alert alert-block alert-warning\">\n",
    "<b>Note:</b> \n",
    "Please note that in Python, as like most of the languages, the \"=\" symbol is used as assignment operator. Always keep in mind that the equal '=' sign used while assigning a value to a variable shouldn't be read as 'equal to', It should be read or interpreted as \"is set to\". The variable is assigned with some value. In the above case, \"Stock\" variable is set to 1000 or assigned with 1000.\n",
    "</div>"
   ]
  },
  {
   "cell_type": "markdown",
   "id": "8ba3aa6c",
   "metadata": {},
   "source": [
    "#### Variables\n",
    "- container to store value.\n",
    "- once assigned with value, can be reused.\n",
    "- rather having only numbers, variables improves the readability of the code"
   ]
  },
  {
   "cell_type": "markdown",
   "id": "8b0b253b",
   "metadata": {},
   "source": [
    "#### Python variable naming conventions\n",
    "<div class=\"alert alert-block alert-warning\">\n",
    "<b>Notes:</b> \n",
    "variable names should follow the below:\n",
    "\n",
    "- Only one word, no space separated words allowed\n",
    "- Only consist of letters, numbers, and underscores. Cannot contain Special characters\n",
    "- Usage of numbers allowed in Variables, but the variables cannot begin with a number\n",
    "- Avoid using with Python <a href=\"https://www.programiz.com/python-programming/keyword-list\"><b>keywords</b></a> in variable names\n",
    "\n",
    "\n",
    "Don't worry about memorizing all keywords. In Jupyter notebook or any other programming environments (IDE), the keywords are highlighted by a specific colors than normal words, which will prevent users from naming their variables and functions after the keywords. \n",
    "</div>"
   ]
  },
  {
   "cell_type": "markdown",
   "id": "61f256c5",
   "metadata": {},
   "source": [
    "As per previous example, the initial stock was 1000, post sale and spoiled ones, the lates stock available was 450. But if you query, the stock variable, it will still show as 1000 which is the initial stock."
   ]
  },
  {
   "cell_type": "code",
   "execution_count": 3,
   "id": "ca119298",
   "metadata": {},
   "outputs": [
    {
     "data": {
      "text/plain": [
       "1000"
      ]
     },
     "execution_count": 3,
     "metadata": {},
     "output_type": "execute_result"
    }
   ],
   "source": [
    "stock"
   ]
  },
  {
   "cell_type": "markdown",
   "id": "30a498bb",
   "metadata": {},
   "source": [
    "To update the new stock value post sale and spoiled ones, what ever calculation we performed earlier to figure out the latest stock should get assigned to the same stock variable."
   ]
  },
  {
   "cell_type": "code",
   "execution_count": 4,
   "id": "308b714b",
   "metadata": {},
   "outputs": [],
   "source": [
    "stock=stock*(1-spoiled)-Total_sold"
   ]
  },
  {
   "cell_type": "code",
   "execution_count": 5,
   "id": "635af144",
   "metadata": {},
   "outputs": [
    {
     "data": {
      "text/plain": [
       "450.0"
      ]
     },
     "execution_count": 5,
     "metadata": {},
     "output_type": "execute_result"
    }
   ],
   "source": [
    "stock"
   ]
  },
  {
   "cell_type": "markdown",
   "id": "d8524bad",
   "metadata": {},
   "source": [
    "The Assignment operator is not as simple as just \"=\" (equal to), it can even more. Like the below table.\n",
    "\n",
    "Operators |   Example  |  Comments\n",
    ":--------|:--------|:---------\n",
    "<code>+=</code> | x+=y | The example is equal to x=x+y\n",
    "<code>-=</code> | x-=y | The example is equal to x=x-y\n",
    "<code>*=</code> | x*=y | The example is equal to x=x*y\n",
    "<code>/=</code> | x/=y | The example is equal to x=x/y"
   ]
  },
  {
   "cell_type": "markdown",
   "id": "514dadca",
   "metadata": {},
   "source": [
    "For example, to showcase on other assignment operator, lets consider the same example. Currently, the stock is left with 450. Now, some time back, additional 50 milk packs got sold. so we need to update the latest stock left. We can perform below action as simple as like this."
   ]
  },
  {
   "cell_type": "code",
   "execution_count": 6,
   "id": "fbdd1031",
   "metadata": {},
   "outputs": [],
   "source": [
    "stock -= 50 # this assigment operator is equal to \"stock = stock - 50\""
   ]
  },
  {
   "cell_type": "code",
   "execution_count": 7,
   "id": "5db5b0db",
   "metadata": {},
   "outputs": [
    {
     "data": {
      "text/plain": [
       "400.0"
      ]
     },
     "execution_count": 7,
     "metadata": {},
     "output_type": "execute_result"
    }
   ],
   "source": [
    "stock"
   ]
  },
  {
   "cell_type": "code",
   "execution_count": null,
   "id": "462c66f7",
   "metadata": {},
   "outputs": [],
   "source": []
  },
  {
   "cell_type": "markdown",
   "id": "7d536973",
   "metadata": {},
   "source": [
    "## Objects"
   ]
  },
  {
   "cell_type": "markdown",
   "id": "e1de14b8",
   "metadata": {},
   "source": [
    "Python is an Object Oriented Programming Language. Everything in Python is Object."
   ]
  },
  {
   "cell_type": "code",
   "execution_count": 8,
   "id": "c962b8d3",
   "metadata": {},
   "outputs": [
    {
     "data": {
      "text/plain": [
       "7"
      ]
     },
     "execution_count": 8,
     "metadata": {},
     "output_type": "execute_result"
    }
   ],
   "source": [
    "7 # is an object in Python"
   ]
  },
  {
   "cell_type": "markdown",
   "id": "c8db0e4e",
   "metadata": {},
   "source": [
    "Python Objects attributes includes identity, type and value"
   ]
  },
  {
   "cell_type": "markdown",
   "id": "27629dde",
   "metadata": {},
   "source": [
    "### Object ID"
   ]
  },
  {
   "cell_type": "code",
   "execution_count": 9,
   "id": "cdc0088a",
   "metadata": {},
   "outputs": [
    {
     "name": "stdout",
     "output_type": "stream",
     "text": [
      "140354833803760\n"
     ]
    }
   ],
   "source": [
    "print (id(7)) # 7 is an object and it's identity is verified with id(). This is the address in Memory."
   ]
  },
  {
   "cell_type": "markdown",
   "id": "72965cb8",
   "metadata": {},
   "source": [
    "Don't get confused, just treat this as like your house address to identify where you living.\n",
    "Even the built-in functions had object id"
   ]
  },
  {
   "cell_type": "code",
   "execution_count": 10,
   "id": "3753cd1e",
   "metadata": {},
   "outputs": [
    {
     "data": {
      "text/plain": [
       "140354565284784"
      ]
     },
     "execution_count": 10,
     "metadata": {},
     "output_type": "execute_result"
    }
   ],
   "source": [
    "id(print)"
   ]
  },
  {
   "cell_type": "markdown",
   "id": "2167fbb8",
   "metadata": {},
   "source": [
    "### Object Data Type"
   ]
  },
  {
   "cell_type": "code",
   "execution_count": 11,
   "id": "eac21091",
   "metadata": {
    "scrolled": true
   },
   "outputs": [
    {
     "data": {
      "text/plain": [
       "int"
      ]
     },
     "execution_count": 11,
     "metadata": {},
     "output_type": "execute_result"
    }
   ],
   "source": [
    "type(7)"
   ]
  },
  {
   "cell_type": "markdown",
   "id": "6ad25113",
   "metadata": {},
   "source": [
    "We will discuss in detail below on the Data Types"
   ]
  },
  {
   "cell_type": "code",
   "execution_count": null,
   "id": "d1a10d4e",
   "metadata": {},
   "outputs": [],
   "source": []
  },
  {
   "cell_type": "markdown",
   "id": "9ec4249b",
   "metadata": {},
   "source": [
    "# Python can Speak"
   ]
  },
  {
   "cell_type": "markdown",
   "id": "5ba1f439",
   "metadata": {},
   "source": [
    "Lets see how Python can interact with us. Even similar way you can use the coding practice enjoyable."
   ]
  },
  {
   "cell_type": "code",
   "execution_count": null,
   "id": "ee26557e",
   "metadata": {},
   "outputs": [],
   "source": []
  },
  {
   "cell_type": "code",
   "execution_count": null,
   "id": "1775ed6b",
   "metadata": {},
   "outputs": [],
   "source": []
  },
  {
   "cell_type": "code",
   "execution_count": 12,
   "id": "b7b95102",
   "metadata": {
    "scrolled": true
   },
   "outputs": [
    {
     "name": "stdout",
     "output_type": "stream",
     "text": [
      "Hello, I am Python! Let's have a conversation.\n",
      "What's your name? Learn Tech & Finance\n",
      "Hello  Learn Tech & Finance ! I'ts great to meet you.\n",
      "How old are you? 25\n",
      "Wow, you are  25 years old! That's fantastic!\n",
      "How are you feeling today? Awesome\n",
      "I understand. It's essential to express our emotions.\n",
      "What are your hobbies? Coding...\n",
      "Coding... sounds like an exciting way to spend your time!\n",
      "Thank you for chatting with me. Remember, Python is not only a programming language but also a great conversationalist!\n"
     ]
    }
   ],
   "source": [
    "# Python can speak too!, via coding.\n",
    "print(\"Hello, I am Python! Let's have a conversation.\")\n",
    "\n",
    "name = input(\"What's your name? \")\n",
    "print(\"Hello \",name,\"!\", \"I'ts great to meet you.\")\n",
    "\n",
    "age = int(input(\"How old are you? \"))\n",
    "print(\"Wow, you are \", age, \"years old! That's fantastic!\")\n",
    "\n",
    "feeling = input(\"How are you feeling today? \")\n",
    "print(\"I understand. It's essential to express our emotions.\")\n",
    "\n",
    "hobby = input(\"What are your hobbies? \")\n",
    "print(hobby,\"sounds like an exciting way to spend your time!\")\n",
    "\n",
    "print(\"Thank you for chatting with me. Remember, Python is not only a programming language but also a great conversationalist!\")"
   ]
  },
  {
   "cell_type": "code",
   "execution_count": null,
   "id": "31a2a81b",
   "metadata": {},
   "outputs": [],
   "source": []
  },
  {
   "cell_type": "code",
   "execution_count": 13,
   "id": "bfbbd4cb",
   "metadata": {
    "scrolled": true
   },
   "outputs": [
    {
     "name": "stdout",
     "output_type": "stream",
     "text": [
      "Help on method raw_input in module ipykernel.kernelbase:\n",
      "\n",
      "raw_input(prompt='') method of ipykernel.ipkernel.IPythonKernel instance\n",
      "    Forward raw_input to frontends\n",
      "    \n",
      "    Raises\n",
      "    ------\n",
      "    StdinNotImplementedError if active frontend doesn't support stdin.\n",
      "\n"
     ]
    }
   ],
   "source": [
    "help(input)"
   ]
  },
  {
   "cell_type": "markdown",
   "id": "39a290f2",
   "metadata": {},
   "source": [
    "###  Detailed documentation shared by Python.org\n",
    "- <a href=\"https://docs.python.org/3/library/functions.html#input\"><b>Python Documentation on Built-in Functions</b></a>"
   ]
  },
  {
   "cell_type": "markdown",
   "id": "2dd4d191",
   "metadata": {},
   "source": [
    "In Python, we use the input() function to take input from the user. Whatever you enter as input, the input function converts it into a string. If you enter an integer value still input() function converts it into a string."
   ]
  },
  {
   "cell_type": "code",
   "execution_count": null,
   "id": "72eba59b",
   "metadata": {},
   "outputs": [],
   "source": []
  },
  {
   "cell_type": "code",
   "execution_count": null,
   "id": "c60c85de",
   "metadata": {},
   "outputs": [],
   "source": []
  },
  {
   "cell_type": "code",
   "execution_count": null,
   "id": "66460f9f",
   "metadata": {
    "scrolled": true
   },
   "outputs": [],
   "source": [
    "# The code is Python, but it can speak too!\n",
    "print(\"Hello, I am Python! Let's have a conversation.\")\n",
    "\n",
    "name = input(\"What's your name? \")\n",
    "print(f\"Hello, {name}! It's great to meet you.\")\n",
    "\n",
    "age = int(input(\"How old are you? \"))\n",
    "print(f\"Wow, you are {age} years old! That's fantastic!\")\n",
    "\n",
    "feeling = input(\"How are you feeling today? \")\n",
    "print(f\"I understand. It's essential to express our emotions.\")\n",
    "\n",
    "hobby = input(\"What are your hobbies? \")\n",
    "print(f\"{hobby} sounds like an exciting way to spend your time!\")\n",
    "\n",
    "print(\"Thank you for chatting with me. Remember, Python is not only a programming language but also a great conversationalist!\")\n"
   ]
  },
  {
   "cell_type": "markdown",
   "id": "bc4a0ec0",
   "metadata": {},
   "source": [
    "### Other way around of using Print via format is below for reference."
   ]
  },
  {
   "cell_type": "code",
   "execution_count": 14,
   "id": "18f56486",
   "metadata": {
    "scrolled": true
   },
   "outputs": [
    {
     "name": "stdout",
     "output_type": "stream",
     "text": [
      "My name is Learn Tech & Finance and my age is 25 \n"
     ]
    }
   ],
   "source": [
    "print(\"My name is {0} and my age is {1} \".format(name,age))"
   ]
  },
  {
   "cell_type": "code",
   "execution_count": 15,
   "id": "9a87789c",
   "metadata": {},
   "outputs": [
    {
     "name": "stdout",
     "output_type": "stream",
     "text": [
      "My name is 25 and my age is Learn Tech & Finance \n"
     ]
    }
   ],
   "source": [
    "print(\"My name is {0} and my age is {1} \".format(age,name))"
   ]
  },
  {
   "cell_type": "code",
   "execution_count": null,
   "id": "bf0ad0ca",
   "metadata": {},
   "outputs": [],
   "source": []
  },
  {
   "cell_type": "markdown",
   "id": "e9e0e855",
   "metadata": {},
   "source": [
    "### Python Dynamicity"
   ]
  },
  {
   "cell_type": "markdown",
   "id": "534c8a68",
   "metadata": {},
   "source": [
    "So far we have seen the variable which acts a storage and if you have some programming background, you could have noticed that there is no explicit declaration of variables as like in C, C++, Java."
   ]
  },
  {
   "cell_type": "markdown",
   "id": "135c89be",
   "metadata": {},
   "source": [
    "``` python\n",
    "### C Code Snipet\n",
    "\n",
    "#include <stdio.h>\n",
    "\n",
    "int main() {\n",
    "    int age; // Variable declaration\n",
    "    age = 25; // Variable assignment\n",
    "    printf(\"Age: %d\\n\", age);\n",
    "    return 0;\n",
    "}\n",
    "\n",
    "```"
   ]
  },
  {
   "cell_type": "markdown",
   "id": "dcfa5b8a",
   "metadata": {},
   "source": [
    "``` python\n",
    "### C++ Code Snippet\n",
    "\n",
    "#include <iostream>\n",
    "\n",
    "int main() {\n",
    "    int age; // Variable declaration\n",
    "    age = 25; // Variable assignment\n",
    "    std::cout << \"Age: \" << age << std::endl;\n",
    "    return 0;\n",
    "}\n",
    "\n",
    "```"
   ]
  },
  {
   "cell_type": "markdown",
   "id": "db0662e2",
   "metadata": {},
   "source": [
    "``` python\n",
    "### Java Code Snippet\n",
    "\n",
    "public class VariableDeclaration {\n",
    "    public static void main(String[] args) {\n",
    "        int age; // Variable declaration\n",
    "        age = 25; // Variable assignment\n",
    "        System.out.println(\"Age: \" + age);\n",
    "    }\n",
    "}\n",
    "```"
   ]
  },
  {
   "cell_type": "markdown",
   "id": "df997d9f",
   "metadata": {},
   "source": [
    "Since Python is dynamic, you don't need to explicitly declare a variable and python have the capability to detect what kind of data type it is and accordingly it will take it up.\n",
    "For the same example as like other languages (C, C++ and JAVA), Python's code snippet is below for reference."
   ]
  },
  {
   "cell_type": "code",
   "execution_count": 16,
   "id": "91b09d31",
   "metadata": {},
   "outputs": [
    {
     "data": {
      "text/plain": [
       "25"
      ]
     },
     "execution_count": 16,
     "metadata": {},
     "output_type": "execute_result"
    }
   ],
   "source": [
    "age = 25 # Both Variable Declaration and Variable Assignment. No need for any explicit declaration\n",
    "age"
   ]
  },
  {
   "cell_type": "markdown",
   "id": "3ab12c6e",
   "metadata": {},
   "source": [
    "This will lead us to the next topic of <b> DATA TYPES </b>"
   ]
  },
  {
   "cell_type": "markdown",
   "id": "3ab99ccf",
   "metadata": {},
   "source": [
    "## DATA TYPES"
   ]
  },
  {
   "cell_type": "markdown",
   "id": "5a711330",
   "metadata": {},
   "source": [
    "We haven't declared the data type for the above example <b> age </b> right. Let's see what's the data type python assigned to it"
   ]
  },
  {
   "cell_type": "code",
   "execution_count": 17,
   "id": "704651fc",
   "metadata": {},
   "outputs": [
    {
     "data": {
      "text/plain": [
       "int"
      ]
     },
     "execution_count": 17,
     "metadata": {},
     "output_type": "execute_result"
    }
   ],
   "source": [
    "type (age)"
   ]
  },
  {
   "cell_type": "markdown",
   "id": "c3e6175f",
   "metadata": {},
   "source": [
    "Let's get into detail on the Python Data Types in the vido and then comeback to the notepad."
   ]
  },
  {
   "cell_type": "markdown",
   "id": "a53c7ee6",
   "metadata": {},
   "source": [
    "As we understood, Python has below Data Types for your kind reference over here itself."
   ]
  },
  {
   "cell_type": "markdown",
   "id": "55811af8",
   "metadata": {},
   "source": [
    "``` python \n",
    "Text Type: str (a='Hi')\n",
    "Numeric Type: int (a=5), float (a=5.0), complex (a=2k)\n",
    "Boolean Type: bool (a=True, x=False)\n",
    "Set Type: set (a={\"dog\",\"cat\",\"fish\"})\n",
    "Mapping Type: dict (a={\"name\":\"Alex\",\"age\":23})\n",
    "Sequence Type: list (a=[\"dog\",\"cat\",\"fish\"]), tuple (a=(\"dog\",\"cat\",\"fish\")), range (a=range(5))\n",
    "\n",
    "These are all basic built-in Data Types exists in Python\n",
    "    \n",
    "```"
   ]
  },
  {
   "cell_type": "markdown",
   "id": "19e1c456",
   "metadata": {},
   "source": [
    "Some of the Data Types we will go through during our upcoming sessions. Lets go through some basics now."
   ]
  },
  {
   "cell_type": "markdown",
   "id": "4d00915d",
   "metadata": {},
   "source": [
    "### Numeric Data Type"
   ]
  },
  {
   "cell_type": "markdown",
   "id": "35bb5b5d",
   "metadata": {},
   "source": [
    "Lets take our old dairy store example and see through the data types"
   ]
  },
  {
   "cell_type": "markdown",
   "id": "e7f1c2a0",
   "metadata": {},
   "source": [
    "<div class=\"alert alert-block alert-success\">\n",
    "<b>Question:</b> \n",
    "A dairy store had 1000 packs of milk in the storage for the day. Out of the total storage, 5% were spoiled, and around 500 milk packs were sold so far. Calculate how many packs of milk left in the dairy store for the day.\n",
    "</div>"
   ]
  },
  {
   "cell_type": "code",
   "execution_count": 18,
   "id": "6cee3857",
   "metadata": {},
   "outputs": [
    {
     "data": {
      "text/plain": [
       "int"
      ]
     },
     "execution_count": 18,
     "metadata": {},
     "output_type": "execute_result"
    }
   ],
   "source": [
    "stock = 1000\n",
    "type(stock)"
   ]
  },
  {
   "cell_type": "code",
   "execution_count": 19,
   "id": "44025108",
   "metadata": {},
   "outputs": [
    {
     "data": {
      "text/plain": [
       "float"
      ]
     },
     "execution_count": 19,
     "metadata": {},
     "output_type": "execute_result"
    }
   ],
   "source": [
    "spoiled = 0.05 # 5%\n",
    "type(spoiled)"
   ]
  },
  {
   "cell_type": "code",
   "execution_count": 20,
   "id": "62aef1d7",
   "metadata": {},
   "outputs": [
    {
     "data": {
      "text/plain": [
       "int"
      ]
     },
     "execution_count": 20,
     "metadata": {},
     "output_type": "execute_result"
    }
   ],
   "source": [
    "Total_sold = 500\n",
    "type(Total_sold)"
   ]
  },
  {
   "cell_type": "code",
   "execution_count": 21,
   "id": "50e52985",
   "metadata": {},
   "outputs": [
    {
     "data": {
      "text/plain": [
       "float"
      ]
     },
     "execution_count": 21,
     "metadata": {},
     "output_type": "execute_result"
    }
   ],
   "source": [
    "type(stock*(1-spoiled)-Total_sold)"
   ]
  },
  {
   "cell_type": "code",
   "execution_count": 22,
   "id": "27233cbd",
   "metadata": {},
   "outputs": [],
   "source": [
    "complex_number = 3+4j"
   ]
  },
  {
   "cell_type": "code",
   "execution_count": 23,
   "id": "273cea42",
   "metadata": {},
   "outputs": [
    {
     "data": {
      "text/plain": [
       "complex"
      ]
     },
     "execution_count": 23,
     "metadata": {},
     "output_type": "execute_result"
    }
   ],
   "source": [
    "type(complex_number)"
   ]
  },
  {
   "cell_type": "markdown",
   "id": "db5ab726",
   "metadata": {},
   "source": [
    "### String Data Type"
   ]
  },
  {
   "cell_type": "code",
   "execution_count": 24,
   "id": "a6232a47",
   "metadata": {},
   "outputs": [
    {
     "name": "stdout",
     "output_type": "stream",
     "text": [
      "Hi \n",
      "Welcome \n"
     ]
    }
   ],
   "source": [
    "x = 'Hi '\n",
    "y = 'Welcome '\n",
    "print(x)\n",
    "print(y)"
   ]
  },
  {
   "cell_type": "code",
   "execution_count": 25,
   "id": "d07fe12b",
   "metadata": {},
   "outputs": [
    {
     "data": {
      "text/plain": [
       "str"
      ]
     },
     "execution_count": 25,
     "metadata": {},
     "output_type": "execute_result"
    }
   ],
   "source": [
    "type(x)"
   ]
  },
  {
   "cell_type": "code",
   "execution_count": 26,
   "id": "10650a72",
   "metadata": {},
   "outputs": [
    {
     "data": {
      "text/plain": [
       "str"
      ]
     },
     "execution_count": 26,
     "metadata": {},
     "output_type": "execute_result"
    }
   ],
   "source": [
    "type(y)"
   ]
  },
  {
   "cell_type": "markdown",
   "id": "51c03ea1",
   "metadata": {},
   "source": [
    "Anything enclosed between single or double quotes are considered as STRINGS in Python"
   ]
  },
  {
   "cell_type": "code",
   "execution_count": 27,
   "id": "ac97469f",
   "metadata": {},
   "outputs": [],
   "source": [
    "z=x+y"
   ]
  },
  {
   "cell_type": "code",
   "execution_count": 28,
   "id": "41d3566a",
   "metadata": {},
   "outputs": [
    {
     "data": {
      "text/plain": [
       "'Hi Welcome '"
      ]
     },
     "execution_count": 28,
     "metadata": {},
     "output_type": "execute_result"
    }
   ],
   "source": [
    "z"
   ]
  },
  {
   "cell_type": "code",
   "execution_count": 29,
   "id": "02c69610",
   "metadata": {},
   "outputs": [
    {
     "data": {
      "text/plain": [
       "str"
      ]
     },
     "execution_count": 29,
     "metadata": {},
     "output_type": "execute_result"
    }
   ],
   "source": [
    "type(z)"
   ]
  },
  {
   "cell_type": "markdown",
   "id": "56efb6da",
   "metadata": {},
   "source": [
    "The \"+\" operator shall be used to combine to strings and at the same time \"*\" operator shall be used to repeat the string by the specified number of times"
   ]
  },
  {
   "cell_type": "code",
   "execution_count": 30,
   "id": "fe0859f6",
   "metadata": {},
   "outputs": [
    {
     "name": "stdout",
     "output_type": "stream",
     "text": [
      "Hi Welcome Hi Welcome Hi Welcome Hi Welcome Hi Welcome Hi Welcome Hi Welcome Hi Welcome Hi Welcome Hi Welcome \n"
     ]
    }
   ],
   "source": [
    "print(z*10)"
   ]
  },
  {
   "cell_type": "code",
   "execution_count": 31,
   "id": "21b145ad",
   "metadata": {
    "scrolled": true
   },
   "outputs": [
    {
     "name": "stdout",
     "output_type": "stream",
     "text": [
      "Hi Everyone, Welcome \n",
      "Hi Everyone, Welcome \n",
      "Hi Everyone, Welcome \n",
      "Hi Everyone, Welcome \n",
      "Hi Everyone, Welcome \n",
      "Hi Everyone, Welcome \n",
      "Hi Everyone, Welcome \n",
      "Hi Everyone, Welcome \n",
      "Hi Everyone, Welcome \n",
      "Hi Everyone, Welcome \n",
      "\n"
     ]
    }
   ],
   "source": [
    "print('Hi Everyone, Welcome \\n' *10)"
   ]
  },
  {
   "cell_type": "markdown",
   "id": "9ea3bb77",
   "metadata": {},
   "source": [
    "<div class=\"alert alert-block alert-warning\">\n",
    "<b>Note:</b> \n",
    "Please note that the multiplication (*) operator will work different for Numeric data type than String data types.\n",
    "</div>"
   ]
  },
  {
   "cell_type": "markdown",
   "id": "ee3e9880",
   "metadata": {},
   "source": [
    "For example, you are going to take input from user and going to print that 10 times."
   ]
  },
  {
   "cell_type": "code",
   "execution_count": 32,
   "id": "753d716b",
   "metadata": {},
   "outputs": [
    {
     "name": "stdout",
     "output_type": "stream",
     "text": [
      "Type something: Hi\n",
      "Your input is: HiHiHiHiHiHiHiHiHiHi\n"
     ]
    }
   ],
   "source": [
    "value = input('Type something: ')\n",
    "\n",
    "print('Your input is: ' + (value)*10)"
   ]
  },
  {
   "cell_type": "code",
   "execution_count": 33,
   "id": "033cffdd",
   "metadata": {},
   "outputs": [
    {
     "name": "stdout",
     "output_type": "stream",
     "text": [
      "Type something: 10\n",
      "Your input is: 10101010101010101010\n"
     ]
    }
   ],
   "source": [
    "value = input('Type something: ')\n",
    "\n",
    "print('Your input is: ' + (value)*10)"
   ]
  },
  {
   "cell_type": "code",
   "execution_count": 34,
   "id": "7de2ee88",
   "metadata": {},
   "outputs": [
    {
     "data": {
      "text/plain": [
       "str"
      ]
     },
     "execution_count": 34,
     "metadata": {},
     "output_type": "execute_result"
    }
   ],
   "source": [
    "type(value)"
   ]
  },
  {
   "cell_type": "code",
   "execution_count": 35,
   "id": "9121d2ec",
   "metadata": {},
   "outputs": [
    {
     "name": "stdout",
     "output_type": "stream",
     "text": [
      "Type something: 10\n",
      "Your input is: 100.0\n"
     ]
    }
   ],
   "source": [
    "value = input('Type something: ')\n",
    "\n",
    "print('Your input is: ' + str(float(value)*10))"
   ]
  },
  {
   "cell_type": "markdown",
   "id": "bb238a44",
   "metadata": {},
   "source": [
    "This is called data type conversion. That we will dicuss in the upcoming session"
   ]
  },
  {
   "cell_type": "code",
   "execution_count": null,
   "id": "76fe61ce",
   "metadata": {},
   "outputs": [],
   "source": []
  },
  {
   "cell_type": "markdown",
   "id": "c3abaa20",
   "metadata": {},
   "source": [
    "### Boolean"
   ]
  },
  {
   "cell_type": "markdown",
   "id": "2fc8736e",
   "metadata": {},
   "source": [
    "As like many other languages, Python Boolean data type denotes, \"True\" or \"False\". For now, understand only this much, we will revise everything in the upcoming session."
   ]
  },
  {
   "cell_type": "code",
   "execution_count": 36,
   "id": "b4809b9a",
   "metadata": {},
   "outputs": [],
   "source": [
    "x = True"
   ]
  },
  {
   "cell_type": "code",
   "execution_count": 38,
   "id": "8fe4cefd",
   "metadata": {},
   "outputs": [
    {
     "data": {
      "text/plain": [
       "bool"
      ]
     },
     "execution_count": 38,
     "metadata": {},
     "output_type": "execute_result"
    }
   ],
   "source": [
    "type(x)"
   ]
  },
  {
   "cell_type": "code",
   "execution_count": 44,
   "id": "9ac2de3d",
   "metadata": {},
   "outputs": [],
   "source": [
    "y = True"
   ]
  },
  {
   "cell_type": "code",
   "execution_count": 39,
   "id": "e45bc59a",
   "metadata": {},
   "outputs": [
    {
     "data": {
      "text/plain": [
       "bool"
      ]
     },
     "execution_count": 39,
     "metadata": {},
     "output_type": "execute_result"
    }
   ],
   "source": [
    "type(x)"
   ]
  },
  {
   "cell_type": "code",
   "execution_count": 43,
   "id": "e6d8356b",
   "metadata": {},
   "outputs": [
    {
     "name": "stdout",
     "output_type": "stream",
     "text": [
      "False\n"
     ]
    }
   ],
   "source": [
    "print(x==y)"
   ]
  },
  {
   "cell_type": "markdown",
   "id": "16ae7d7c",
   "metadata": {},
   "source": [
    "Lets try with numbers and compare to see the output"
   ]
  },
  {
   "cell_type": "code",
   "execution_count": 46,
   "id": "42661d07",
   "metadata": {},
   "outputs": [],
   "source": [
    "x=2\n",
    "y=3"
   ]
  },
  {
   "cell_type": "code",
   "execution_count": 47,
   "id": "746cfb12",
   "metadata": {},
   "outputs": [
    {
     "name": "stdout",
     "output_type": "stream",
     "text": [
      "False\n"
     ]
    }
   ],
   "source": [
    "print(x==y)"
   ]
  },
  {
   "cell_type": "markdown",
   "id": "b375eb26",
   "metadata": {},
   "source": [
    "<div class=\"alert alert-block alert-warning\">\n",
    "<b>Note:</b> \n",
    "    Please note that the assignment operator is single \"=\" (equal to) and the comparator operator is double \"==\"\n",
    "    (equal to)\n",
    "</div>"
   ]
  },
  {
   "cell_type": "code",
   "execution_count": null,
   "id": "cf247e3b",
   "metadata": {},
   "outputs": [],
   "source": []
  },
  {
   "cell_type": "code",
   "execution_count": null,
   "id": "0d0ee4fa",
   "metadata": {},
   "outputs": [],
   "source": []
  },
  {
   "cell_type": "markdown",
   "id": "de69cdb7",
   "metadata": {},
   "source": [
    "### Data Type Conversion"
   ]
  },
  {
   "cell_type": "markdown",
   "id": "1da01f9a",
   "metadata": {},
   "source": [
    "You might be confused with What is \"Data Type Conversion\", on top of the loads taken so far in the basics of Python coding."
   ]
  },
  {
   "cell_type": "markdown",
   "id": "e0725470",
   "metadata": {},
   "source": [
    "For instance, you have a requirement to append some string at the end of the integer data type variable."
   ]
  },
  {
   "cell_type": "code",
   "execution_count": 48,
   "id": "1e04eef5",
   "metadata": {},
   "outputs": [
    {
     "data": {
      "text/plain": [
       "int"
      ]
     },
     "execution_count": 48,
     "metadata": {},
     "output_type": "execute_result"
    }
   ],
   "source": [
    "n = 10\n",
    "type(n)"
   ]
  },
  {
   "cell_type": "code",
   "execution_count": 49,
   "id": "cbf4c31a",
   "metadata": {},
   "outputs": [
    {
     "ename": "TypeError",
     "evalue": "unsupported operand type(s) for +: 'int' and 'str'",
     "output_type": "error",
     "traceback": [
      "\u001b[0;31m---------------------------------------------------------------------------\u001b[0m",
      "\u001b[0;31mTypeError\u001b[0m                                 Traceback (most recent call last)",
      "Input \u001b[0;32mIn [49]\u001b[0m, in \u001b[0;36m<cell line: 1>\u001b[0;34m()\u001b[0m\n\u001b[0;32m----> 1\u001b[0m o \u001b[38;5;241m=\u001b[39m \u001b[43mn\u001b[49m\u001b[38;5;241;43m+\u001b[39;49m\u001b[38;5;124;43m'\u001b[39;49m\u001b[38;5;124;43mHi\u001b[39;49m\u001b[38;5;124;43m'\u001b[39;49m\n",
      "\u001b[0;31mTypeError\u001b[0m: unsupported operand type(s) for +: 'int' and 'str'"
     ]
    }
   ],
   "source": [
    "o = n+'Hi'"
   ]
  },
  {
   "cell_type": "markdown",
   "id": "32f505a9",
   "metadata": {},
   "source": [
    "To Address this issue, the integer data type variable 'n' shall be converted to a string first and then we can add string to the variable."
   ]
  },
  {
   "cell_type": "code",
   "execution_count": 50,
   "id": "7ddaa333",
   "metadata": {},
   "outputs": [],
   "source": [
    "o=str(n)+'Hi'"
   ]
  },
  {
   "cell_type": "code",
   "execution_count": 51,
   "id": "19ddecae",
   "metadata": {},
   "outputs": [
    {
     "data": {
      "text/plain": [
       "'10Hi'"
      ]
     },
     "execution_count": 51,
     "metadata": {},
     "output_type": "execute_result"
    }
   ],
   "source": [
    "o"
   ]
  },
  {
   "cell_type": "code",
   "execution_count": 52,
   "id": "8f5574db",
   "metadata": {},
   "outputs": [
    {
     "data": {
      "text/plain": [
       "str"
      ]
     },
     "execution_count": 52,
     "metadata": {},
     "output_type": "execute_result"
    }
   ],
   "source": [
    "type(o)"
   ]
  },
  {
   "cell_type": "markdown",
   "id": "d0a22c7b",
   "metadata": {},
   "source": [
    "Implicit conversion, Python will handle automatically and the example is below for reference."
   ]
  },
  {
   "cell_type": "code",
   "execution_count": 53,
   "id": "aeebcfd1",
   "metadata": {},
   "outputs": [],
   "source": [
    "x=2\n",
    "y=3.5"
   ]
  },
  {
   "cell_type": "code",
   "execution_count": 54,
   "id": "04723e4e",
   "metadata": {},
   "outputs": [
    {
     "data": {
      "text/plain": [
       "int"
      ]
     },
     "execution_count": 54,
     "metadata": {},
     "output_type": "execute_result"
    }
   ],
   "source": [
    "type(x)"
   ]
  },
  {
   "cell_type": "code",
   "execution_count": 55,
   "id": "94f085c6",
   "metadata": {},
   "outputs": [
    {
     "data": {
      "text/plain": [
       "float"
      ]
     },
     "execution_count": 55,
     "metadata": {},
     "output_type": "execute_result"
    }
   ],
   "source": [
    "type(y)"
   ]
  },
  {
   "cell_type": "code",
   "execution_count": 56,
   "id": "aef4d98a",
   "metadata": {},
   "outputs": [
    {
     "data": {
      "text/plain": [
       "5.5"
      ]
     },
     "execution_count": 56,
     "metadata": {},
     "output_type": "execute_result"
    }
   ],
   "source": [
    "z=x+y\n",
    "z"
   ]
  },
  {
   "cell_type": "code",
   "execution_count": 57,
   "id": "199a2a09",
   "metadata": {},
   "outputs": [
    {
     "data": {
      "text/plain": [
       "float"
      ]
     },
     "execution_count": 57,
     "metadata": {},
     "output_type": "execute_result"
    }
   ],
   "source": [
    "type(z)"
   ]
  },
  {
   "cell_type": "markdown",
   "id": "b9cdebcc",
   "metadata": {},
   "source": [
    "x is of integer and y is float, the summation of x and y will mark the variable z as 'float' automatically as it has decimal value.\n",
    "Any other conversions, we need to specify explicitly as like previous example"
   ]
  },
  {
   "cell_type": "code",
   "execution_count": null,
   "id": "b0ae15e1",
   "metadata": {},
   "outputs": [],
   "source": []
  }
 ],
 "metadata": {
  "kernelspec": {
   "display_name": "Python 3 (ipykernel)",
   "language": "python",
   "name": "python3"
  },
  "language_info": {
   "codemirror_mode": {
    "name": "ipython",
    "version": 3
   },
   "file_extension": ".py",
   "mimetype": "text/x-python",
   "name": "python",
   "nbconvert_exporter": "python",
   "pygments_lexer": "ipython3",
   "version": "3.9.12"
  }
 },
 "nbformat": 4,
 "nbformat_minor": 5
}
