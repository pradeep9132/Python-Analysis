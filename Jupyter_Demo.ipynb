{
 "cells": [
  {
   "cell_type": "markdown",
   "id": "0c7c1d8b",
   "metadata": {},
   "source": [
    "# Jupyter Notebook - Intro\n",
    "## By FreeLearnTechEdu\n",
    "#### YouTube Session on Intro to Python & Analytics"
   ]
  },
  {
   "cell_type": "markdown",
   "id": "af43b665",
   "metadata": {},
   "source": [
    "Welcome! <br>This is a self-paced introduction to the get ourself familiarize with Jupyter Notebook via examples.\n",
    "\n",
    "<div class=\"alert alert-info\"><strong>Note:</strong>Please spend sufficient time to experiment this Notebook, if you are new to Python and Jupyter Notebook. Obviously, this is not a rocket science. You can easily get used to it while practicing.</div>\n",
    "\n",
    "*Programming isn't tough, till we practice and make through. Spend some quality time, if you're completely new to the programming. Python will make you comfortable with its easiness*"
   ]
  },
  {
   "cell_type": "markdown",
   "id": "69b3fa56",
   "metadata": {},
   "source": [
    "### Today's Agenda\n",
    "\n",
    "- Sample Program\n",
    "- Familiarize with Jupyter Notebooks"
   ]
  },
  {
   "cell_type": "markdown",
   "id": "e6b7cb17",
   "metadata": {},
   "source": [
    "## Sample Program\n",
    "\n",
    "For now, don't think too much on the code below, just run the sample below code and see how the visualization in Jupyter Notebook."
   ]
  },
  {
   "cell_type": "code",
   "execution_count": 12,
   "id": "046c6ed4",
   "metadata": {
    "scrolled": true
   },
   "outputs": [
    {
     "data": {
      "image/png": "[encoded data removed]",
      "text/plain": [
       "<Figure size 432x288 with 1 Axes>"
      ]
     },
     "metadata": {
      "needs_background": "light"
     },
     "output_type": "display_data"
    }
   ],
   "source": [
    "import matplotlib.pyplot as plt\n",
    "\n",
    "# Sample data\n",
    "categories = ['Category A', 'Category B', 'Category C', 'Category D']\n",
    "values = [25, 30, 15, 40]\n",
    "\n",
    "# Create a bar chart\n",
    "plt.bar(categories, values)\n",
    "\n",
    "# Add labels and title\n",
    "plt.xlabel('Categories')\n",
    "plt.ylabel('Values')\n",
    "plt.title('Sample Bar Chart')\n",
    "\n",
    "# Show the chart\n",
    "plt.show()"
   ]
  },
  {
   "cell_type": "markdown",
   "id": "d5e7ca5e",
   "metadata": {},
   "source": [
    "## Familiarize with Jupyter Notebook"
   ]
  },
  {
   "cell_type": "markdown",
   "id": "06c3a9fb",
   "metadata": {},
   "source": [
    "***Jupyter Notebook Introduction***\n",
    "Jupyter Notebook is nothing but a collection of cells. Each cell will do its activity of what we asked to do so.\n",
    "It can be either Code Cell or Markdown Cell\n",
    "\n",
    "- `Code` Cell is used to write Python Code\n",
    "- `Markdown` cell is used for write ups. Heading or notes or some comments."
   ]
  },
  {
   "cell_type": "code",
   "execution_count": null,
   "id": "0cb9ce4c",
   "metadata": {},
   "outputs": [],
   "source": [
    "################################################\n",
    "################## Practice 1 ##################\n",
    "################################################\n",
    "\n",
    "# Create one Markdown cell to add some heading and try\n",
    "# Create one code cell and try some text."
   ]
  },
  {
   "cell_type": "markdown",
   "id": "ff0d3cc5",
   "metadata": {},
   "source": [
    "# Heading 1\n",
    "## Heading 2\n",
    "### Heading 3\n",
    "#### Heading 4"
   ]
  },
  {
   "cell_type": "code",
   "execution_count": 15,
   "id": "fd233f7d",
   "metadata": {},
   "outputs": [],
   "source": [
    "# Heading 1 # -  treated as a comment in python"
   ]
  },
  {
   "cell_type": "code",
   "execution_count": 16,
   "id": "1de949ef",
   "metadata": {
    "scrolled": false
   },
   "outputs": [
    {
     "ename": "SyntaxError",
     "evalue": "invalid syntax (395777161.py, line 1)",
     "output_type": "error",
     "traceback": [
      "\u001b[0;36m  Input \u001b[0;32mIn [16]\u001b[0;36m\u001b[0m\n\u001b[0;31m    Heading 1\u001b[0m\n\u001b[0m            ^\u001b[0m\n\u001b[0;31mSyntaxError\u001b[0m\u001b[0;31m:\u001b[0m invalid syntax\n"
     ]
    }
   ],
   "source": [
    "Heading 1"
   ]
  },
  {
   "cell_type": "markdown",
   "id": "42b1f9e9",
   "metadata": {},
   "source": [
    "### Jupyter Notbook have 2 modes.\n",
    "- Command Mode\n",
    "- Edit Mode"
   ]
  },
  {
   "cell_type": "markdown",
   "id": "3f1dd29d",
   "metadata": {},
   "source": [
    "`Command` mode is where\n",
    "- a cell can be created\n",
    "    - above (by pressing a)\n",
    "    - below (by pressing b)\n",
    "- a cell can be deleted (by pressing 'd' twice)\n",
    "- a cell mode can be changed to \n",
    "    - Markdown (by pressing m)\n",
    "    - Code (by pressing y)\n",
    "- others are interrupting the kernel (by pressing 'i' twice), restarting kernel (by pressing '0' twice)\n",
    "\n",
    "`Edit` mode is where\n",
    "- typing is allowed.\n",
    "- write a code or explanation\n",
    "- to run or execute the cell,\n",
    "    - Shift + Enter/return. This will run/execute the current cell and move to next cell even by creating, if no cells are there.\n",
    "    - Ctrl/control + Enter/return. This will just simply run/execute the current cell and stay in the same cell."
   ]
  },
  {
   "cell_type": "code",
   "execution_count": null,
   "id": "e0a6a043",
   "metadata": {},
   "outputs": [],
   "source": []
  },
  {
   "cell_type": "code",
   "execution_count": 17,
   "id": "6afb2af5",
   "metadata": {},
   "outputs": [],
   "source": [
    "#############################################################\n",
    "################## Practice 2 #########################\n",
    "#############################################################\n",
    "\n",
    "# Create two cells below this cell and two cells above this cell\n",
    "# Delete one each from the ones you just created above and below."
   ]
  },
  {
   "cell_type": "markdown",
   "id": "9ff9c255",
   "metadata": {},
   "source": [
    "#### Some times we will face issue while running the cell.\n",
    "it will show as still running and won't give any output. it might be because of any issue.\n",
    "such instance we can restart the kernel."
   ]
  },
  {
   "cell_type": "code",
   "execution_count": null,
   "id": "6c178dac",
   "metadata": {},
   "outputs": [],
   "source": []
  }
 ],
 "metadata": {
  "kernelspec": {
   "display_name": "Python 3 (ipykernel)",
   "language": "python",
   "name": "python3"
  },
  "language_info": {
   "codemirror_mode": {
    "name": "ipython",
    "version": 3
   },
   "file_extension": ".py",
   "mimetype": "text/x-python",
   "name": "python",
   "nbconvert_exporter": "python",
   "pygments_lexer": "ipython3",
   "version": "3.9.12"
  }
 },
 "nbformat": 4,
 "nbformat_minor": 5
}
