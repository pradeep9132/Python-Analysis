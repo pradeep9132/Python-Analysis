{
 "cells": [
  {
   "cell_type": "markdown",
   "id": "6973a40e",
   "metadata": {},
   "source": [
    "# Jupyter Notebook Demo"
   ]
  },
  {
   "cell_type": "markdown",
   "id": "f2b8d30c",
   "metadata": {},
   "source": [
    "## How to Execute the cell"
   ]
  },
  {
   "cell_type": "markdown",
   "id": "a7e82be6",
   "metadata": {},
   "source": [
    "### Just a demo on the cell execution"
   ]
  },
  {
   "cell_type": "markdown",
   "id": "fb7d406d",
   "metadata": {},
   "source": [
    "This is just to create a note. You can mention something before coding"
   ]
  },
  {
   "cell_type": "code",
   "execution_count": 2,
   "id": "cd2e4a74",
   "metadata": {},
   "outputs": [],
   "source": [
    "a=1"
   ]
  },
  {
   "cell_type": "code",
   "execution_count": 3,
   "id": "d5f1b9cd",
   "metadata": {},
   "outputs": [],
   "source": [
    "b=2"
   ]
  },
  {
   "cell_type": "code",
   "execution_count": 4,
   "id": "f6604e19",
   "metadata": {},
   "outputs": [
    {
     "data": {
      "text/plain": [
       "3"
      ]
     },
     "execution_count": 4,
     "metadata": {},
     "output_type": "execute_result"
    }
   ],
   "source": [
    "a+b"
   ]
  },
  {
   "cell_type": "code",
   "execution_count": 5,
   "id": "12723f12",
   "metadata": {},
   "outputs": [
    {
     "data": {
      "text/plain": [
       "3"
      ]
     },
     "execution_count": 5,
     "metadata": {},
     "output_type": "execute_result"
    }
   ],
   "source": [
    "a\n",
    "b\n",
    "a+b"
   ]
  },
  {
   "cell_type": "code",
   "execution_count": 6,
   "id": "916f5727",
   "metadata": {
    "scrolled": true
   },
   "outputs": [
    {
     "name": "stdout",
     "output_type": "stream",
     "text": [
      "1\n",
      "2\n",
      "3\n"
     ]
    }
   ],
   "source": [
    "print(a)\n",
    "print(b)\n",
    "print(a+b)"
   ]
  },
  {
   "cell_type": "markdown",
   "id": "850b719b",
   "metadata": {},
   "source": [
    "This is to showcase the bullet point creation\n",
    "- 1st\n",
    "- 2nd\n",
    "- 3rd"
   ]
  },
  {
   "cell_type": "code",
   "execution_count": 7,
   "id": "5ccc5f0d",
   "metadata": {},
   "outputs": [],
   "source": [
    "a = 1 #assigning variable a to 1"
   ]
  },
  {
   "cell_type": "code",
   "execution_count": 8,
   "id": "0b7d0863",
   "metadata": {},
   "outputs": [],
   "source": [
    "b = 2 #assigning variable b to 2"
   ]
  },
  {
   "cell_type": "code",
   "execution_count": null,
   "id": "08b56844",
   "metadata": {},
   "outputs": [],
   "source": []
  }
 ],
 "metadata": {
  "kernelspec": {
   "display_name": "Python 3 (ipykernel)",
   "language": "python",
   "name": "python3"
  },
  "language_info": {
   "codemirror_mode": {
    "name": "ipython",
    "version": 3
   },
   "file_extension": ".py",
   "mimetype": "text/x-python",
   "name": "python",
   "nbconvert_exporter": "python",
   "pygments_lexer": "ipython3",
   "version": "3.9.12"
  }
 },
 "nbformat": 4,
 "nbformat_minor": 5
}
